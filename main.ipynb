{
 "cells": [
  {
   "cell_type": "code",
   "execution_count": 4,
   "metadata": {},
   "outputs": [],
   "source": [
    "# import time module, Observer, FileSystemEventHandler\n",
    "import time\n",
    "from watchdog.observers import Observer\n",
    "from watchdog.events import FileSystemEventHandler\n",
    "import os"
   ]
  },
  {
   "cell_type": "code",
   "execution_count": 5,
   "metadata": {},
   "outputs": [],
   "source": [
    "excutableExtensions = {'MCR', 'HPF', 'XLM', 'TMS', 'IPA', 'ARSCRIPT', 'HMS', 'PPAM', 'REG', 'EAR', 'LS', 'MS',\n",
    "                        'QPX', 'XBAP', 'EX4', 'MAM', 'ROX', 'COM', 'MSP', 'BEAM', 'SPR', 'XYS', 'EBM', 'PS1',\n",
    "                          'SCR', 'UDF', 'CEL', 'IPF', 'MSC', 'PWC', 'SCT', 'AWK', 'PAF', 'VBE', 'ISU', 'GS',\n",
    "                            'INS', 'RBX', 'XAP', 'SCA', 'U3P', 'SHS', 'SBS', 'AC', 'OBS', 'ZL9', 'AHK', 'JOB',\n",
    "                              'JAR', 'DOCM', 'FPI', 'CMD', 'ORE', 'PYC', 'JSX', 'AS', 'EHAM', 'ISP', 'ASB', 'VLX',\n",
    "                                'SMM', 'CELX', 'CSH', 'HTA', 'TCP', 'FAS', 'RGS', 'PYO', 'KIX', 'PIF', 'PPSM', 'WSF',\n",
    "                                  'ACTM', 'FKY', 'LNK', 'MST', 'WORKFLOW', 'EZS', 'COMMAND', 'SHB', 'RPJ', 'SCRIPT',\n",
    "                                    'OTM', 'EXE', 'DMC', 'VPM', 'EBS', 'PRG', 'VB', 'ACC', 'ACR', 'CHM', 'OSX', 'IIM',\n",
    "                                      'XLAM', 'INX', 'DEK', 'DLD', 'PRC', 'XLSM', 'MPX', 'PEX', 'EBS2', 'MRC', 'PLX',\n",
    "                                        'DOTM', 'LO', 'XQT', 'WCM', 'POTM', 'TLB', 'WPM', 'OUT', '0XE', 'VBS', 'XLTM',\n",
    "                                          'THM', 'CPL', 'KSH', 'MEL', '89K', 'FRS', 'UPX', 'NEXE', 'ECF', 'APP', 'A6P',\n",
    "                                            'HAM', 'MXE', 'JSE', 'RUN', 'ES', 'AZW2', 'FXP', 'ELF', 'BAT', 'WS', 'JS', 'PVD',\n",
    "                                              'SCAR', 'APK', 'VBSCRIPT', 'S2A', 'SCB', 'WPK', 'GADGET', '73K', 'URL', 'AIR', 'WIZ',\n",
    "                                                'MSI', 'CRT', 'INF1', 'BTM', 'WIDGET', 'BIN', 'DXL', 'EXOPC', 'PPTM', 'COF'}\n",
    "\n",
    "\n",
    "videoExtensions = set( \"WEBM, MPG, MP2, MPEG, MPE, MPV, OGG, MP4, M4P, M4V, AVI, WMV, MOV, QT, FLV, SWF, AVCHD\".split(', ') )\n",
    "imageExtensions = set( \"JPG,PNG,GIF,WEBP,TIFF,PSD,RAW,BMP,HEIF,INDD,JPEG2000,SVG,AI,EPS,PDF\".split(',') )\n",
    "documentExtensions = set( \"DOC, DOCX, HTML, HTM, ODT, PDF, XLS, XLSX, ODS, PPT, PPTX, TXT\".split(', ') )\n",
    "safeExtensions = videoExtensions.union(imageExtensions).union(documentExtensions)"
   ]
  },
  {
   "cell_type": "code",
   "execution_count": 6,
   "metadata": {},
   "outputs": [],
   "source": [
    "watchDirectory = \"D:\\\\Downloads\\\\\"\n",
    "class OnMyWatch:\n",
    "\t# Set the directory on watch\n",
    "\twatchDirectory = \"D:\\\\Downloads\\\\\"\n",
    "\tdef __init__(self):\n",
    "\t\tself.observer = Observer()\n",
    "\n",
    "\tdef run(self):\n",
    "\t\tevent_handler = Handler()\n",
    "\t\tself.observer.schedule(event_handler, self.watchDirectory, recursive = True)\n",
    "\t\tself.observer.start()\n",
    "\t\ttry:\n",
    "\t\t\twhile True:\n",
    "\t\t\t\ttime.sleep(5)\n",
    "\t\texcept:\n",
    "\t\t\tself.observer.stop()\n",
    "\t\t\tprint(\"Observer Stopped\")\n",
    "\n",
    "\t\tself.observer.join()\n",
    "\n",
    "\n",
    "class Handler(FileSystemEventHandler):\n",
    "\n",
    "\t@staticmethod\n",
    "\tdef on_any_event(event):\n",
    "\t\tif event.is_directory:\n",
    "\t\t\treturn None\n",
    "\n",
    "\t\telif event.event_type == 'created':\n",
    "\t\t\t# Event is created, you can process it now\n",
    "\t\t\tpath = (event.src_path)\n",
    "\t\t\tfilename = os.path.basename(path)\n",
    "\t\t\textension = os.path.splitext(filename)[-1][1:].upper()\n",
    "\t\t\tsafePath = watchDirectory + \"SafeExecution\"\n",
    "\t\t\tif(path.startswith(safePath)):# safe\n",
    "\t\t\t\treturn None\n",
    "\t\t\telif(extension in excutableExtensions):# unsafe area\n",
    "\t\t\t\ttemp = f\"ren \\\"{path}\\\" \\\"[BLOCKED]{filename}\\\"\"\n",
    "\t\t\t\tos.system(temp) # rename\n",
    "\t\t\t\tpath = path[0:len(path)-len(filename)]+\"[BLOCKED]\"+filename\n",
    "\t\t\t\temcPath = \"ExecutionMaster-x64\\\\emc.exe\"\n",
    "\t\t\t\tcommand = emcPath + ' ' +'set'+ ' ' + '\\\"' + path + \"\\\"\" + ' ' + 'deny'\n",
    "\t\t\t\tos.system(command)\n",
    "\t\t\t\n",
    "\n",
    "if __name__ == '__main__':\n",
    "\twatch = OnMyWatch()\n",
    "\twatch.run()\n"
   ]
  },
  {
   "cell_type": "code",
   "execution_count": null,
   "metadata": {},
   "outputs": [],
   "source": []
  }
 ],
 "metadata": {
  "kernelspec": {
   "display_name": "Python 3",
   "language": "python",
   "name": "python3"
  },
  "language_info": {
   "codemirror_mode": {
    "name": "ipython",
    "version": 3
   },
   "file_extension": ".py",
   "mimetype": "text/x-python",
   "name": "python",
   "nbconvert_exporter": "python",
   "pygments_lexer": "ipython3",
   "version": "3.11.5"
  },
  "orig_nbformat": 4
 },
 "nbformat": 4,
 "nbformat_minor": 2
}
